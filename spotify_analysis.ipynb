{
 "cells": [
  {
   "cell_type": "code",
   "execution_count": null,
   "metadata": {},
   "outputs": [],
   "source": [
    "from api_setup import logger_setup, set_env_variables\n",
    "\n",
    "logger_setup()\n",
    "set_env_variables()"
   ]
  },
  {
   "cell_type": "code",
   "execution_count": null,
   "metadata": {},
   "outputs": [],
   "source": [
    "import spotipy #type: ignore\n",
    "from spotipy.oauth2 import SpotifyClientCredentials, SpotifyOAuth #type: ignore\n",
    "from typing import Union, Any\n",
    "import pandas as pd\n",
    "import matplotlib\n",
    "import matplotlib.pyplot as plt\n",
    "import seaborn as sns"
   ]
  },
  {
   "attachments": {},
   "cell_type": "markdown",
   "metadata": {},
   "source": [
    "## Plan\n",
    "\n",
    "1. Get list of songs in each playlist\n",
    "2. Get details from all songs"
   ]
  },
  {
   "cell_type": "code",
   "execution_count": null,
   "metadata": {},
   "outputs": [],
   "source": [
    "def get_playlists() -> list[str]:\n",
    "    \"\"\"\n",
    "    Gets playlist codes from secrets and loads into a list\n",
    "    \"\"\"\n",
    "\n",
    "    playlists: list[str] = []\n",
    "\n",
    "    with open('secrets/playlists.txt','r') as f:\n",
    "        lines = f.readlines() \n",
    "\n",
    "        for line in lines:\n",
    "            playlist_id = line[line.find('=')+1:-1]\n",
    "            if playlist_id:\n",
    "                playlists.append(playlist_id)\n",
    "    \n",
    "    return playlists\n",
    "\n",
    "def get_songs_in_playlist(sp:spotipy.Spotify,pl_id:str)->dict[str,list[dict[str,dict[str,str]]]]:\n",
    "    \"\"\"\n",
    "    Accesses the Spotify API to get the IDs of the songs with a given Playlist ID.\n",
    "    \"\"\"\n",
    "    \n",
    "    offset = 0\n",
    "\n",
    "    response = sp.playlist_items(pl_id,\n",
    "                                offset=offset,\n",
    "                                fields='items.track.id,total',\n",
    "                                additional_types=['track'])\n",
    "    \n",
    "    return response\n",
    "\n",
    "def create_total_track_list(sp:spotipy.Spotify) -> tuple[set[str],list[dict[str,Union[str, list[str]]]]]:\n",
    "    \"\"\"\n",
    "    Creates list of all tracks in each playlist\n",
    "    \"\"\"\n",
    "\n",
    "    playlists: list[str] = get_playlists()\n",
    "\n",
    "    track_ids: set[str] = set()\n",
    "    playlist_contents: list[dict[str,Union[str, list[str]]]] = []\n",
    "    \n",
    "    for playlist in playlists:\n",
    "        response = get_songs_in_playlist(sp,playlist)\n",
    "        current_playlist_contents: dict[str,Union[str, list[str]]] = {'playlist_id':playlist, 'song_ids':response['items']}\n",
    "        playlist_contents.append(current_playlist_contents)\n",
    "\n",
    "        for item in response['items']:\n",
    "            track_ids.add(item['track']['id'])\n",
    "\n",
    "    return track_ids, playlist_contents\n",
    "\n",
    "    "
   ]
  },
  {
   "cell_type": "code",
   "execution_count": null,
   "metadata": {},
   "outputs": [],
   "source": [
    "def get_song_properties(sp: spotipy.Spotify, track_ids: set[str]):\n",
    "    track_list: list[str] = list(track_ids)\n",
    "    n_tracks = len(track_list)\n",
    "    track_features: list[dict[str,Any]] = []\n",
    "\n",
    "    analysed_tracks: int = 0\n",
    "    while analysed_tracks < n_tracks-1:\n",
    "        response = sp.audio_features(track_list[analysed_tracks:analysed_tracks+99])\n",
    "        analysed_tracks += 99\n",
    "        track_features += response\n",
    "\n",
    "    return track_features\n",
    "\n",
    "        "
   ]
  },
  {
   "cell_type": "code",
   "execution_count": null,
   "metadata": {},
   "outputs": [],
   "source": [
    "client_credentials_manager = SpotifyClientCredentials()\n",
    "sp = spotipy.Spotify(client_credentials_manager=client_credentials_manager)\n",
    "scope = 'playlist-read-collaborative'\n",
    "sp_personal = spotipy.Spotify(auth_manager=SpotifyOAuth(scope=scope))\n",
    "tracklist, playlist_contents = create_total_track_list(sp)"
   ]
  },
  {
   "cell_type": "code",
   "execution_count": null,
   "metadata": {},
   "outputs": [],
   "source": [
    "track_features = get_song_properties(sp, tracklist)"
   ]
  },
  {
   "cell_type": "code",
   "execution_count": null,
   "metadata": {},
   "outputs": [],
   "source": [
    "dat_track_features = pd.DataFrame(track_features)\n",
    "list(dat_track_features)"
   ]
  },
  {
   "cell_type": "code",
   "execution_count": null,
   "metadata": {},
   "outputs": [],
   "source": [
    "graph_track_features = [\n",
    "    'danceability',\n",
    "    'energy',\n",
    "    'loudness',\n",
    "    'speechiness',\n",
    "    'acousticness',\n",
    "    'instrumentalness',\n",
    "    'liveness',\n",
    "    'valence',\n",
    "    'tempo',\n",
    "    'duration_ms']\n",
    "\n",
    "categorical_track_features = [\n",
    "    'key',\n",
    "    'mode',\n",
    "    'time_signature'\n",
    "]"
   ]
  },
  {
   "attachments": {},
   "cell_type": "markdown",
   "metadata": {},
   "source": [
    "#### Danceability\n",
    "Danceability describes how suitable a track is for dancing based on a combination of musical elements including tempo, rhythm stability, beat strength, and overall regularity. A value of 0.0 is least danceable and 1.0 is most danceable.\n",
    "#### Energy\n",
    "Energy is a measure from 0.0 to 1.0 and represents a perceptual measure of intensity and activity. Typically, energetic tracks feel fast, loud, and noisy. For example, death metal has high energy, while a Bach prelude scores low on the scale. Perceptual features contributing to this attribute include dynamic range, perceived loudness, timbre, onset rate, and general entropy.\n",
    "#### Key\n",
    "The key the track is in. Integers map to pitches using standard Pitch Class notation. E.g. 0 = C, 1 = C♯/D♭, 2 = D, and so on. If no key was detected, the value is -1. >= -1 <= 11\n",
    "#### Loudness\n",
    "The overall loudness of a track in decibels (dB). Loudness values are averaged across the entire track and are useful for comparing relative loudness of tracks. Loudness is the quality of a sound that is the primary psychological correlate of physical strength (amplitude). Values typically range between -60 and 0 db.\n",
    "#### Mode\n",
    "Mode indicates the modality (major or minor) of a track, the type of scale from which its melodic content is derived. Major is represented by 1 and minor is 0.\n",
    "#### Speechiness\n",
    "Speechiness detects the presence of spoken words in a track. The more exclusively speech-like the recording (e.g. talk show, audio book, poetry), the closer to 1.0 the attribute value. Values above 0.66 describe tracks that are probably made entirely of spoken words. Values between 0.33 and 0.66 describe tracks that may contain both music and speech, either in sections or layered, including such cases as rap music. Values below 0.33 most likely represent music and other non-speech-like tracks.\n",
    "#### Acousticness\n",
    "A confidence measure from 0.0 to 1.0 of whether the track is acoustic. 1.0 represents high confidence the track is acoustic.\n",
    "#### Instrumentalness\n",
    "Predicts whether a track contains no vocals. \"Ooh\" and \"aah\" sounds are treated as instrumental in this context. Rap or spoken word tracks are clearly \"vocal\". The closer the instrumentalness value is to 1.0, the greater likelihood the track contains no vocal content. Values above 0.5 are intended to represent instrumental tracks, but confidence is higher as the value approaches 1.0.\n",
    "#### Liveness\n",
    "Detects the presence of an audience in the recording. Higher liveness values represent an increased probability that the track was performed live. A value above 0.8 provides strong likelihood that the track is live.\n",
    "#### Valence\n",
    "A measure from 0.0 to 1.0 describing the musical positiveness conveyed by a track. Tracks with high valence sound more positive (e.g. happy, cheerful, euphoric), while tracks with low valence sound more negative (e.g. sad, depressed, angry). >= 0 <= 1\n",
    "#### Tempo\n",
    "The overall estimated tempo of a track in beats per minute (BPM). In musical terminology, tempo is the speed or pace of a given piece and derives directly from the average beat duration.\n",
    "#### Type\n",
    "The type of body. Always \"audio features\".\n",
    "#### ID\n",
    "The Spotify ID for the track.\n",
    "#### URI\n",
    "The Spotify URI for the track.\n",
    "#### Track_href\n",
    "The URL for the song\n",
    "#### Analysis_url\n",
    "A URL to access the full audio analysis of this track. An access token is required to access this data.\n",
    "#### Duration_ms\n",
    "The duration of the track in milliseconds.\n",
    "#### Time_signature\n",
    "An estimated time signature. The time signature (meter) is a notational convention to specify how many beats are in each bar (or measure). The time signature ranges from 3 to 7 indicating time signatures of \"3/4\", to \"7/4\". >= 3 <= 7"
   ]
  },
  {
   "cell_type": "code",
   "execution_count": null,
   "metadata": {},
   "outputs": [],
   "source": [
    "dat_track_features.describe()"
   ]
  },
  {
   "cell_type": "code",
   "execution_count": null,
   "metadata": {},
   "outputs": [],
   "source": [
    "dat_graph = dat_track_features[graph_track_features]"
   ]
  },
  {
   "cell_type": "code",
   "execution_count": null,
   "metadata": {},
   "outputs": [],
   "source": [
    "sns.pairplot(dat_graph)\n",
    "plt.show()"
   ]
  },
  {
   "cell_type": "code",
   "execution_count": null,
   "metadata": {},
   "outputs": [],
   "source": [
    "# Create list of data frames\n",
    "for playlist in playlist_contents:\n",
    "    data = playlist['song_ids']\n",
    "    playlist.update({'dataframe':pd.DataFrame(list(tracks['track']['id'] for tracks in data),columns=['id'])})\n",
    "    playlist['dataframe'] = playlist['dataframe'].merge(dat_track_features, on='id', how='left')"
   ]
  },
  {
   "cell_type": "code",
   "execution_count": null,
   "metadata": {},
   "outputs": [],
   "source": [
    "playlist_contents[0]['dataframe'].head()"
   ]
  },
  {
   "cell_type": "code",
   "execution_count": null,
   "metadata": {},
   "outputs": [],
   "source": [
    "for playlist in playlist_contents:\n",
    "    averages = playlist['dataframe'].mean()\n",
    "    playlist.update({'danceability':averages['danceability'],\n",
    "                     'energy':averages['energy'],\n",
    "                     'loudness':averages['loudness'],\n",
    "                     'mode':averages['mode'],\n",
    "                     'speechiness':averages['speechiness'],\n",
    "                     'acousticness':averages['acousticness'],\n",
    "                     'instrumentalness':averages['instrumentalness'],\n",
    "                     'liveness':averages['liveness'],\n",
    "                     'valence':averages['valence'],\n",
    "                     'tempo':averages['tempo'],\n",
    "                     'duration_ms':averages['duration_ms']})"
   ]
  },
  {
   "cell_type": "code",
   "execution_count": null,
   "metadata": {},
   "outputs": [],
   "source": [
    "playlist_contents[0].keys()"
   ]
  },
  {
   "cell_type": "code",
   "execution_count": null,
   "metadata": {},
   "outputs": [],
   "source": [
    "playlist_id = []\n",
    "danceability = []\n",
    "energy = []\n",
    "loudness = []\n",
    "mode = []\n",
    "speechiness = []\n",
    "acousticness = []\n",
    "instrumentalness = []\n",
    "liveness = []\n",
    "valence = []\n",
    "tempo = []\n",
    "duration_ms = []\n",
    "\n",
    "for playlist in playlist_contents:\n",
    "    playlist_id.append(playlist['playlist_id'])\n",
    "    danceability.append(playlist['danceability'])\n",
    "    energy.append(playlist['energy'])\n",
    "    loudness.append(playlist['loudness'])\n",
    "    mode.append(playlist['mode'])\n",
    "    speechiness.append(playlist['speechiness'])\n",
    "    acousticness.append(playlist['acousticness'])\n",
    "    instrumentalness.append(playlist['instrumentalness'])\n",
    "    liveness.append(playlist['liveness'])\n",
    "    valence.append(playlist['valence'])\n",
    "    tempo.append(playlist['tempo'])\n",
    "    duration_ms.append(playlist['duration_ms'])\n",
    "\n",
    "playlist_averages = pd.DataFrame({'playlist_id':playlist_id,\n",
    "                                  'danceability':danceability,\n",
    "                                  'energy':energy,\n",
    "                                  'loudness':loudness,\n",
    "                                  'mode':mode,\n",
    "                                  'speechiness':speechiness,\n",
    "                                  'acousticness':acousticness,\n",
    "                                  'instrumentalness':instrumentalness,\n",
    "                                  'liveness':liveness,\n",
    "                                  'valence':valence,\n",
    "                                  'tempo':tempo,\n",
    "                                  'duration_ms':duration_ms})"
   ]
  },
  {
   "cell_type": "code",
   "execution_count": null,
   "metadata": {},
   "outputs": [],
   "source": [
    "playlist_averages.head()"
   ]
  },
  {
   "attachments": {},
   "cell_type": "markdown",
   "metadata": {},
   "source": [
    "Parse data and allocate to people"
   ]
  },
  {
   "cell_type": "code",
   "execution_count": null,
   "metadata": {},
   "outputs": [],
   "source": [
    "rand_names = ['Oliver','Declan','Niamh','Aurora','Silas','Luna']"
   ]
  },
  {
   "cell_type": "code",
   "execution_count": null,
   "metadata": {},
   "outputs": [],
   "source": [
    "playlist_owner_data = []\n",
    "real_names_list = [] \n",
    "\n",
    "with open('secrets\\playlists.txt') as f:\n",
    "    for line in f.readlines():\n",
    "        playlist_id = line[line.find('=')+1:-1]\n",
    "        name_date = line[0:line.find('=')].split('_')\n",
    "        name_date.append(playlist_id)\n",
    "        \n",
    "        # Obscure real names\n",
    "        if name_date[0] not in real_names_list:\n",
    "            real_names_list.append(name_date[0])\n",
    "        \n",
    "        name_date[0] = rand_names[real_names_list.index(name_date[0])]\n",
    "        playlist_owner_data.append(name_date)\n",
    "\n",
    "dat_playlist_owner_data = pd.DataFrame(playlist_owner_data, columns=['name', 'month', 'year', 'playlist_id'])"
   ]
  },
  {
   "cell_type": "code",
   "execution_count": null,
   "metadata": {},
   "outputs": [],
   "source": [
    "dat_playlist_owner_data.head()"
   ]
  },
  {
   "cell_type": "code",
   "execution_count": null,
   "metadata": {},
   "outputs": [],
   "source": [
    "month_match = pd.DataFrame({'month':['jan','feb','mar','apr','may','jun','jul','aug','sep','oct','nov','dec'],\n",
    "                            'month_nr':[1,2,3,4,5,6,7,8,9,10,11,12]})"
   ]
  },
  {
   "cell_type": "code",
   "execution_count": null,
   "metadata": {},
   "outputs": [],
   "source": [
    "owner_playlist_averages = dat_playlist_owner_data.merge(playlist_averages,on='playlist_id').merge(month_match,on='month')\n",
    "owner_playlist_averages = owner_playlist_averages.assign(date_month = lambda x: pd.to_datetime({'year':\"20\"+x.year, 'month':x.month_nr, 'day':[1]*len(owner_playlist_averages)},format=\"%y%m%d\"))\n",
    "owner_playlist_averages = owner_playlist_averages.sort_values(by=['date_month'])\n",
    "owner_playlist_averages.head()\n"
   ]
  },
  {
   "cell_type": "code",
   "execution_count": null,
   "metadata": {},
   "outputs": [],
   "source": [
    "sns.lineplot(data=owner_playlist_averages, x='date_month', y='energy', hue='name')\n"
   ]
  },
  {
   "cell_type": "code",
   "execution_count": null,
   "metadata": {},
   "outputs": [],
   "source": [
    "name_list = owner_playlist_averages['name'].unique()\n",
    "counter = 0\n",
    "\n",
    "graph_features = ['danceability',\n",
    "                  'energy',\n",
    "                  'loudness',\n",
    "                  'mode',\n",
    "                  'speechiness',\n",
    "                  'acousticness',\n",
    "                  'instrumentalness',\n",
    "                  'liveness',\n",
    "                  'valence',\n",
    "                  'tempo',\n",
    "                  'duration_ms']\n",
    "\n",
    "fig, axs = plt.subplots(nrows=4, ncols=3, figsize=(10,10))\n",
    "\n",
    "for i in range(4):\n",
    "    for j in range(3):\n",
    "        if i == 3 and j == 2:\n",
    "            continue\n",
    "        for active_name in name_list:\n",
    "            active_data = owner_playlist_averages.query('name == @active_name')\n",
    "            axs[i,j].plot(active_data['date_month'], active_data[graph_features[counter]], )\n",
    "            axs[i,j].title.set_text(graph_features[counter])\n",
    "            axs[i,j].xaxis.set_tick_params(rotation=30)\n",
    "            if graph_features[counter] != \"loudness\" and graph_features[counter] != \"tempo\" and graph_features[counter] != \"duration_ms\":\n",
    "                axs[i,j].set_ylim(0,1)\n",
    "        \n",
    "        counter += 1\n",
    "\n",
    "axs[3,2].axis('off')\n",
    "fig.legend(name_list,loc='lower right')\n",
    "fig.suptitle(\"Average Playlist Feature Scores per Month\")\n",
    "fig.tight_layout()\n",
    "plt.show()"
   ]
  },
  {
   "cell_type": "code",
   "execution_count": null,
   "metadata": {},
   "outputs": [],
   "source": [
    "dat_playlist_owner_data.head().merge(month_match,on='month')"
   ]
  },
  {
   "cell_type": "code",
   "execution_count": null,
   "metadata": {},
   "outputs": [],
   "source": [
    "playlist_contents[0].keys()"
   ]
  },
  {
   "cell_type": "code",
   "execution_count": null,
   "metadata": {},
   "outputs": [],
   "source": [
    "for year in range(21,24):\n",
    "    for month in range(1,13):\n",
    "        print(year,\" \", month)"
   ]
  },
  {
   "cell_type": "code",
   "execution_count": null,
   "metadata": {},
   "outputs": [],
   "source": []
  }
 ],
 "metadata": {
  "kernelspec": {
   "display_name": ".venv",
   "language": "python",
   "name": "python3"
  },
  "language_info": {
   "codemirror_mode": {
    "name": "ipython",
    "version": 3
   },
   "file_extension": ".py",
   "mimetype": "text/x-python",
   "name": "python",
   "nbconvert_exporter": "python",
   "pygments_lexer": "ipython3",
   "version": "3.10.5"
  },
  "orig_nbformat": 4,
  "vscode": {
   "interpreter": {
    "hash": "78087d5310180bebae04798aebeb75f91995e1cbf44dde0cc7851ec153c94bad"
   }
  }
 },
 "nbformat": 4,
 "nbformat_minor": 2
}

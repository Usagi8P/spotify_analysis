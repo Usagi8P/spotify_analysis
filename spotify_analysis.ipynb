{
 "cells": [
  {
   "cell_type": "code",
   "execution_count": null,
   "metadata": {},
   "outputs": [],
   "source": [
    "import sqlite3\n",
    "from typing import Union, Any\n",
    "import pandas as pd\n",
    "import matplotlib\n",
    "import matplotlib.pyplot as plt\n",
    "import seaborn as sns"
   ]
  },
  {
   "cell_type": "code",
   "execution_count": null,
   "metadata": {},
   "outputs": [],
   "source": [
    "graph_track_features = [\n",
    "    'danceability',\n",
    "    'energy',\n",
    "    'loudness',\n",
    "    'speechiness',\n",
    "    'acousticness',\n",
    "    'instrumentalness',\n",
    "    'liveness',\n",
    "    'valence',\n",
    "    'tempo',\n",
    "    'duration_ms']\n",
    "\n",
    "categorical_track_features = [\n",
    "    'key',\n",
    "    'mode',\n",
    "    'time_signature'\n",
    "]"
   ]
  },
  {
   "cell_type": "code",
   "execution_count": null,
   "metadata": {},
   "outputs": [],
   "source": [
    "con = sqlite3.connect('spotify.db')\n",
    "track_features = pd.read_sql(\"\"\"SELECT * from songs\"\"\", con)\n",
    "con.close()"
   ]
  },
  {
   "cell_type": "code",
   "execution_count": null,
   "metadata": {},
   "outputs": [],
   "source": [
    "track_features.head()"
   ]
  },
  {
   "cell_type": "code",
   "execution_count": null,
   "metadata": {},
   "outputs": [],
   "source": [
    "track_features.shape"
   ]
  },
  {
   "cell_type": "code",
   "execution_count": null,
   "metadata": {},
   "outputs": [],
   "source": [
    "track_features.describe()"
   ]
  },
  {
   "cell_type": "code",
   "execution_count": null,
   "metadata": {},
   "outputs": [],
   "source": [
    "track_features.info()"
   ]
  },
  {
   "attachments": {},
   "cell_type": "markdown",
   "metadata": {},
   "source": [
    "#### Danceability\n",
    "Danceability describes how suitable a track is for dancing based on a combination of musical elements including tempo, rhythm stability, beat strength, and overall regularity. A value of 0.0 is least danceable and 1.0 is most danceable.\n",
    "#### Energy\n",
    "Energy is a measure from 0.0 to 1.0 and represents a perceptual measure of intensity and activity. Typically, energetic tracks feel fast, loud, and noisy. For example, death metal has high energy, while a Bach prelude scores low on the scale. Perceptual features contributing to this attribute include dynamic range, perceived loudness, timbre, onset rate, and general entropy.\n",
    "#### Key\n",
    "The key the track is in. Integers map to pitches using standard Pitch Class notation. E.g. 0 = C, 1 = C♯/D♭, 2 = D, and so on. If no key was detected, the value is -1. >= -1 <= 11\n",
    "#### Loudness\n",
    "The overall loudness of a track in decibels (dB). Loudness values are averaged across the entire track and are useful for comparing relative loudness of tracks. Loudness is the quality of a sound that is the primary psychological correlate of physical strength (amplitude). Values typically range between -60 and 0 db.\n",
    "#### Mode\n",
    "Mode indicates the modality (major or minor) of a track, the type of scale from which its melodic content is derived. Major is represented by 1 and minor is 0.\n",
    "#### Speechiness\n",
    "Speechiness detects the presence of spoken words in a track. The more exclusively speech-like the recording (e.g. talk show, audio book, poetry), the closer to 1.0 the attribute value. Values above 0.66 describe tracks that are probably made entirely of spoken words. Values between 0.33 and 0.66 describe tracks that may contain both music and speech, either in sections or layered, including such cases as rap music. Values below 0.33 most likely represent music and other non-speech-like tracks.\n",
    "#### Acousticness\n",
    "A confidence measure from 0.0 to 1.0 of whether the track is acoustic. 1.0 represents high confidence the track is acoustic.\n",
    "#### Instrumentalness\n",
    "Predicts whether a track contains no vocals. \"Ooh\" and \"aah\" sounds are treated as instrumental in this context. Rap or spoken word tracks are clearly \"vocal\". The closer the instrumentalness value is to 1.0, the greater likelihood the track contains no vocal content. Values above 0.5 are intended to represent instrumental tracks, but confidence is higher as the value approaches 1.0.\n",
    "#### Liveness\n",
    "Detects the presence of an audience in the recording. Higher liveness values represent an increased probability that the track was performed live. A value above 0.8 provides strong likelihood that the track is live.\n",
    "#### Valence\n",
    "A measure from 0.0 to 1.0 describing the musical positiveness conveyed by a track. Tracks with high valence sound more positive (e.g. happy, cheerful, euphoric), while tracks with low valence sound more negative (e.g. sad, depressed, angry). >= 0 <= 1\n",
    "#### Tempo\n",
    "The overall estimated tempo of a track in beats per minute (BPM). In musical terminology, tempo is the speed or pace of a given piece and derives directly from the average beat duration.\n",
    "#### Type\n",
    "The type of body. Always \"audio features\".\n",
    "#### ID\n",
    "The Spotify ID for the track.\n",
    "#### URI\n",
    "The Spotify URI for the track.\n",
    "#### Track_href\n",
    "The URL for the song\n",
    "#### Analysis_url\n",
    "A URL to access the full audio analysis of this track. An access token is required to access this data.\n",
    "#### Duration_ms\n",
    "The duration of the track in milliseconds.\n",
    "#### Time_signature\n",
    "An estimated time signature. The time signature (meter) is a notational convention to specify how many beats are in each bar (or measure). The time signature ranges from 3 to 7 indicating time signatures of \"3/4\", to \"7/4\". >= 3 <= 7"
   ]
  },
  {
   "cell_type": "code",
   "execution_count": null,
   "metadata": {},
   "outputs": [],
   "source": [
    "dat_graph = track_features[graph_track_features]"
   ]
  },
  {
   "cell_type": "code",
   "execution_count": null,
   "metadata": {},
   "outputs": [],
   "source": [
    "sns.pairplot(dat_graph)\n",
    "plt.show()"
   ]
  },
  {
   "cell_type": "code",
   "execution_count": null,
   "metadata": {},
   "outputs": [],
   "source": [
    "playlist_averages_query=\"\"\"SELECT o.date, f.fake_name, \n",
    "                            AVG(s.acousticness) as avg_acousticness,\n",
    "                            AVG(s.danceability) as avg_danceability,\n",
    "                            AVG(s.duration_ms) as avg_duration_ms,\n",
    "                            AVG(s.energy) as avg_energy,\n",
    "                            AVG(s.instrumentalness) as avg_instrumentalness,\n",
    "                            AVG(s.liveness) as avg_liveness,\n",
    "                            AVG(s.loudness) as avg_loudness,\n",
    "                            AVG(s.speechiness) as avg_speechiness,\n",
    "                            AVG(s.tempo) as avg_tempo,\n",
    "                            AVG(s.valence) as avg_valence\n",
    "                        FROM owners o \n",
    "                        JOIN fake_names f ON o.owner_name=f.owner_name\n",
    "                        JOIN playlist_songs ps ON o.playlist_id=ps.playlist_id\n",
    "                        JOIN songs s ON ps.track_id=s.track_id\n",
    "                        GROUP BY o.owner_name, f.fake_name, o.date\n",
    "                        ORDER BY date ASC\"\"\""
   ]
  },
  {
   "cell_type": "code",
   "execution_count": null,
   "metadata": {},
   "outputs": [],
   "source": [
    "con = sqlite3.connect('spotify.db')\n",
    "playlist_averages = pd.read_sql(playlist_averages_query,con,parse_dates=['date'])\n",
    "con.close()"
   ]
  },
  {
   "cell_type": "code",
   "execution_count": null,
   "metadata": {},
   "outputs": [],
   "source": [
    "playlist_averages.head()"
   ]
  },
  {
   "cell_type": "code",
   "execution_count": null,
   "metadata": {},
   "outputs": [],
   "source": [
    "playlist_averages.date.dtype"
   ]
  },
  {
   "cell_type": "code",
   "execution_count": null,
   "metadata": {},
   "outputs": [],
   "source": [
    "features_list = ['avg_acousticness',\n",
    "                'avg_danceability',\n",
    "                'avg_duration_ms',\n",
    "                'avg_energy',\n",
    "                'avg_instrumentalness',\n",
    "                'avg_liveness',\n",
    "                'avg_loudness',\n",
    "                'avg_speechiness',\n",
    "                'avg_valence']"
   ]
  },
  {
   "cell_type": "code",
   "execution_count": null,
   "metadata": {},
   "outputs": [],
   "source": [
    "fig, axs = plt.subplots(nrows=3, ncols=3, figsize=(10,8))\n",
    "\n",
    "counter = 0\n",
    "\n",
    "for i in range(3):\n",
    "    for j in range(3):\n",
    "        sns.lineplot(ax=axs[i,j],data=playlist_averages,x='date',y=features_list[counter],hue='fake_name')\n",
    "        if i == 0 and j == 0: \n",
    "            legend = axs[i,j].get_legend()\n",
    "        axs[i,j].legend().remove()\n",
    "        axs[i,j].xaxis_date()\n",
    "        counter += 1\n",
    "\n",
    "fig.legend(legend.get_lines(),playlist_averages.fake_name.unique(), bbox_to_anchor=(1.11, 0.95))\n",
    "fig.autofmt_xdate()\n",
    "fig.suptitle(\"Average Playlist Feature Scores per Month\")\n",
    "fig.tight_layout()\n",
    "plt.show()"
   ]
  }
 ],
 "metadata": {
  "kernelspec": {
   "display_name": ".venv",
   "language": "python",
   "name": "python3"
  },
  "language_info": {
   "codemirror_mode": {
    "name": "ipython",
    "version": 3
   },
   "file_extension": ".py",
   "mimetype": "text/x-python",
   "name": "python",
   "nbconvert_exporter": "python",
   "pygments_lexer": "ipython3",
   "version": "3.10.5"
  },
  "orig_nbformat": 4,
  "vscode": {
   "interpreter": {
    "hash": "78087d5310180bebae04798aebeb75f91995e1cbf44dde0cc7851ec153c94bad"
   }
  }
 },
 "nbformat": 4,
 "nbformat_minor": 2
}
